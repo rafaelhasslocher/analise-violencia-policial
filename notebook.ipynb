{
 "cells": [
  {
   "cell_type": "markdown",
   "metadata": {},
   "source": [
    "### 0 - Preparação do ambiente"
   ]
  },
  {
   "cell_type": "markdown",
   "metadata": {},
   "source": [
    "#### 0.1 - Instalação de bibliotecas utilizadas ao longo do código"
   ]
  },
  {
   "cell_type": "code",
   "execution_count": 0,
   "metadata": {
    "application/vnd.databricks.v1+cell": {
     "cellMetadata": {
      "byteLimit": 2048000,
      "rowLimit": 10000
     },
     "inputWidgets": {},
     "nuid": "26f9f3df-dbd2-4564-b29b-761e465bab02",
     "showTitle": false,
     "tableResultSettingsMap": {},
     "title": ""
    }
   },
   "outputs": [],
   "source": [
    "%pip install pandas --quiet\n",
    "%pip install matplotlib --quiet\n",
    "%pip install seaborn --quiet\n",
    "%pip install tabulate --quiet"
   ]
  },
  {
   "cell_type": "markdown",
   "metadata": {},
   "source": [
    "#### 0.2 - Importação dos pacotes"
   ]
  },
  {
   "cell_type": "code",
   "execution_count": 0,
   "metadata": {
    "application/vnd.databricks.v1+cell": {
     "cellMetadata": {
      "byteLimit": 2048000,
      "rowLimit": 10000
     },
     "inputWidgets": {},
     "nuid": "7ed8740a-6aa4-4755-87a8-28b8335b3e16",
     "showTitle": false,
     "tableResultSettingsMap": {},
     "title": ""
    }
   },
   "outputs": [],
   "source": [
    "#importação de pacotes\n",
    "\n",
    "import pandas as pd\n",
    "import matplotlib.pyplot as plt\n",
    "import matplotlib.ticker as ticker\n",
    "import seaborn as sns\n",
    "from tabulate import tabulate\n",
    "from pyspark.sql import SparkSession"
   ]
  },
  {
   "cell_type": "markdown",
   "metadata": {},
   "source": [
    "#### 0.3 - Criação dos schemas de dados na arquitetura Medallion"
   ]
  },
  {
   "cell_type": "code",
   "execution_count": 0,
   "metadata": {
    "application/vnd.databricks.v1+cell": {
     "cellMetadata": {
      "byteLimit": 2048000,
      "implicitDf": true,
      "rowLimit": 10000
     },
     "inputWidgets": {},
     "nuid": "114aaa34-ce96-4899-a44d-d04b24a7ceef",
     "showTitle": false,
     "tableResultSettingsMap": {},
     "title": ""
    }
   },
   "outputs": [],
   "source": [
    "%sql\n",
    "\n",
    "CREATE DATABASE bronze;\n",
    "CREATE DATABASE silver;\n",
    "CREATE DATABASE gold;"
   ]
  },
  {
   "cell_type": "markdown",
   "metadata": {},
   "source": [
    "#### 0.4 - Funções utilizadas ao longo do notebook"
   ]
  },
  {
   "cell_type": "code",
   "execution_count": null,
   "metadata": {},
   "outputs": [],
   "source": [
    "def tipo_coluna(coluna):\n",
    "    if pd.api.types.is_numeric_dtype(fato[coluna]):\n",
    "        return \"Numérica\"\n",
    "    else:\n",
    "        return \"Categórica\"\n",
    "    \n",
    "def categorizar_quartis(df_input, coluna):\n",
    "\n",
    "    df = df_input.copy()\n",
    "\n",
    "    quartil_1 = df[coluna].quantile(0.25)\n",
    "    quartil_2 = df[coluna].quantile(0.5)\n",
    "    quartil_3 = df[coluna].quantile(0.75)\n",
    "\n",
    "    bins = [\n",
    "        df[coluna].min(),\n",
    "        quartil_1,\n",
    "        quartil_2,\n",
    "        quartil_3,\n",
    "        df[coluna].max(),\n",
    "    ]\n",
    "\n",
    "    labels = [\n",
    "        \"1º quartil\",\n",
    "        \"2º quartil\",\n",
    "        \"3º quartil\",\n",
    "        \"4º quartil\",\n",
    "    ]\n",
    "\n",
    "    categorias = pd.cut(\n",
    "        df[coluna],\n",
    "        bins=bins,\n",
    "        labels=labels,\n",
    "        include_lowest=True,\n",
    "    )\n",
    "\n",
    "    categorias = categorias.cat.add_categories(\"Não informado\")\n",
    "\n",
    "    df[\"Categoria\"] = categorias.fillna(\"Não informado\").astype(str)\n",
    "\n",
    "    return df\n",
    "\n",
    "def converter_numerico(df_input, coluna):\n",
    "    df = df_input.copy()\n",
    "\n",
    "    df[coluna] = pd.to_numeric(\n",
    "        df[coluna], errors=\"coerce\"\n",
    "    )\n",
    "\n",
    "    return df\n",
    "\n",
    "def padronizar_cidades(df, coluna, lista_strings):\n",
    "    df = df.copy()\n",
    "    df[coluna] = df[coluna].replace(lista_strings, \"\", regex=True)\n",
    "    df[coluna] = df[coluna].str.strip()\n",
    "    return df\n",
    "\n",
    "def categorizar(valor):\n",
    "    if valor == \"unarmed\":\n",
    "        return \"Desarmado\"\n",
    "    elif \"unknown\" in str(valor) or valor == \"undetermined\":\n",
    "        return \"Desconhecido\"\n",
    "    else:\n",
    "        return \"Armado\""
   ]
  },
  {
   "cell_type": "markdown",
   "metadata": {},
   "source": [
    "### 1 - ETL para criação das tabelas de nível bronze"
   ]
  },
  {
   "cell_type": "markdown",
   "metadata": {},
   "source": [
    "#### 1.1 - Extração dos dados"
   ]
  },
  {
   "cell_type": "code",
   "execution_count": 0,
   "metadata": {
    "application/vnd.databricks.v1+cell": {
     "cellMetadata": {
      "byteLimit": 2048000,
      "rowLimit": 10000
     },
     "inputWidgets": {},
     "nuid": "4591162a-54b5-42f7-b8cd-2e9dec56bf0e",
     "showTitle": false,
     "tableResultSettingsMap": {},
     "title": ""
    }
   },
   "outputs": [],
   "source": [
    "#Tabela fato\n",
    "\n",
    "fato = pd.read_csv(\n",
    "    \"https://raw.githubusercontent.com/rafaelhasslocher/analise-violencia-policial/main/data/PoliceKillingsUS.csv\",\n",
    "    encoding=\"latin1\",\n",
    ")\n",
    "\n",
    "#Tabela dimensão 1 - Renda Mediana por Cidade\n",
    "\n",
    "dimensao_renda_mediana = pd.read_csv(\n",
    "    \"https://raw.githubusercontent.com/rafaelhasslocher/analise-violencia-policial/main/data/MedianHouseholdIncome2015.csv\",\n",
    "    encoding=\"latin1\",\n",
    ")\n",
    "\n",
    "#Tabela dimensão 2 - Percentual de pessoas abaixo da linha da pobreza por cidade\n",
    "\n",
    "dimensao_linha_pobreza = pd.read_csv(\n",
    "    \"https://raw.githubusercontent.com/rafaelhasslocher/analise-violencia-policial/main/data/PercentagePeopleBelowPovertyLevel.csv\",\n",
    "    encoding=\"latin1\",\n",
    ")\n",
    "\n",
    "#Tabela dimensão 3 - Percentual de pessoas acima de 25 anos que completaram o ensino médio por cidade\n",
    "\n",
    "dimensao_escolaridade = pd.read_csv(\n",
    "    \"https://raw.githubusercontent.com/rafaelhasslocher/analise-violencia-policial/main/data/PercentOver25CompletedHighSchool.csv\",\n",
    "    encoding=\"latin1\",\n",
    ")\n",
    "\n",
    "#Tabela dimensão 4 - Distribuição percentual de raças por cidade\n",
    "\n",
    "dimensao_percentual_racas = pd.read_csv(\n",
    "    \"https://raw.githubusercontent.com/rafaelhasslocher/analise-violencia-policial/main/data/ShareRaceByCity.csv\",\n",
    "    encoding=\"latin1\",\n",
    ")\n",
    "\n",
    "#Tabela dimensão 5 - População por cidade americana\n",
    "\n",
    "dimensao_populacao = pd.read_csv(\n",
    "    \"https://raw.githubusercontent.com/rafaelhasslocher/analise-violencia-policial/main/data/sub-est2019_all.csv\",\n",
    "    encoding=\"latin1\",\n",
    ")\n",
    "\n",
    "#Tabela dimensão 6 - Identificador dos códigos dos estados americanos\n",
    "\n",
    "codigos_cidades = pd.read_csv(\n",
    "    \"https://raw.githubusercontent.com/rafaelhasslocher/analise-violencia-policial/main/data/fips_codes.csv\",\n",
    "    encoding=\"latin1\",\n",
    ")"
   ]
  },
  {
   "cell_type": "markdown",
   "metadata": {},
   "source": [
    "#### 1.2 - Tratamento dos nomes de colunas"
   ]
  },
  {
   "cell_type": "code",
   "execution_count": null,
   "metadata": {},
   "outputs": [],
   "source": [
    "fato_spark = spark.createDataFrame(fato)\n",
    "\n",
    "dimensao_renda_mediana.columns = [\n",
    "    col.strip().replace(\" \", \"_\").lower()\n",
    "    for col in dimensao_renda_mediana.columns\n",
    "]\n",
    "\n",
    "dimensao_renda_mediana_spark = spark.createDataFrame(dimensao_renda_mediana)   \n",
    "\n",
    "dimensao_linha_pobreza.columns = [\n",
    "    col.strip().replace(\" \", \"_\").lower()\n",
    "    for col in dimensao_linha_pobreza.columns\n",
    "]\n",
    "\n",
    "dimensao_linha_pobreza_spark = spark.createDataFrame(dimensao_linha_pobreza)\n",
    "\n",
    "dimensao_escolaridade.columns = [\n",
    "    col.strip().replace(\" \", \"_\").lower()\n",
    "    for col in dimensao_escolaridade.columns\n",
    "]\n",
    "\n",
    "dimensao_escolaridade_spark = spark.createDataFrame(dimensao_escolaridade)\n",
    "\n",
    "dimensao_percentual_racas.columns = [\n",
    "    col.strip().replace(\" \", \"_\").lower()\n",
    "    for col in dimensao_percentual_racas.columns\n",
    "]\n",
    "\n",
    "dimensao_percentual_racas_spark = spark.createDataFrame(dimensao_percentual_racas)\n",
    "\n",
    "dimensao_populacao.columns = [\n",
    "    col.strip().replace(\" \", \"_\").lower()\n",
    "    for col in dimensao_populacao.columns\n",
    "]\n",
    "\n",
    "dimensao_populacao_spark = spark.createDataFrame(dimensao_populacao)\n",
    "\n",
    "codigos_cidades.columns = [\n",
    "    col.strip().replace(\" \", \"_\").lower()\n",
    "    for col in codigos_cidades.columns\n",
    "]\n",
    "\n",
    "codigos_cidades_spark = spark.createDataFrame(codigos_cidades)"
   ]
  },
  {
   "cell_type": "markdown",
   "metadata": {},
   "source": [
    "#### 1.3 - Carregar as tabelas nos schemas criados"
   ]
  },
  {
   "cell_type": "code",
   "execution_count": null,
   "metadata": {},
   "outputs": [],
   "source": [
    "\n",
    "fato_spark.write.mode(\"overwrite\").saveAsTable(\"bronze.fato\") \n",
    "\n",
    "dimensao_renda_mediana_spark.write.mode(\"overwrite\").saveAsTable(\"bronze.dimensao_renda_mediana\")\n",
    "    \n",
    "dimensao_linha_pobreza_spark.write.mode(\"overwrite\").saveAsTable(\"bronze.dimensao_linha_pobreza\")\n",
    "\n",
    "dimensao_escolaridade_spark.write.mode(\"overwrite\").saveAsTable(\"bronze.dimensao_escolaridade\")\n",
    "\n",
    "dimensao_percentual_racas_spark.write.mode(\"overwrite\").saveAsTable(\"bronze.dimensao_percentual_racas\")\n",
    "\n",
    "dimensao_populacao_spark.write.mode(\"overwrite\").saveAsTable(\"bronze.dimensao_populacao\")\n",
    "\n",
    "codigos_cidades_spark.write.mode(\"overwrite\").saveAsTable(\"bronze.codigos_cidades\")"
   ]
  },
  {
   "cell_type": "markdown",
   "metadata": {},
   "source": [
    "### 2 - ETL para criação das tabelas nível silver"
   ]
  },
  {
   "cell_type": "markdown",
   "metadata": {},
   "source": [
    "#### 2.1 - Tabela Fato - Homicídios policiais registrados nos Estados Unidos"
   ]
  },
  {
   "cell_type": "markdown",
   "metadata": {},
   "source": [
    "##### 2.1.1 - Extrair a tabela do schema bronze e performar a análise exploratória"
   ]
  },
  {
   "cell_type": "code",
   "execution_count": 0,
   "metadata": {
    "application/vnd.databricks.v1+cell": {
     "cellMetadata": {
      "byteLimit": 2048000,
      "rowLimit": 10000
     },
     "inputWidgets": {},
     "nuid": "0c9368f3-f30f-4d86-8372-fb5a84678b6f",
     "showTitle": false,
     "tableResultSettingsMap": {},
     "title": ""
    }
   },
   "outputs": [],
   "source": [
    "bronze_fato = spark.table(\"bronze.fato\").toPandas()\n",
    "\n",
    "info = [\n",
    "    [coluna, bronze_fato[coluna].dtype, tipo_coluna(coluna), bronze_fato[coluna].isnull().sum(), bronze_fato[coluna].nunique()]\n",
    "    for coluna in bronze_fato.columns\n",
    "]\n",
    "\n",
    "headers = [\"Coluna\", \"Tipo de Dado\", \"Categoria\", \"Valores Nulos\", \"Valores Únicos\"]\n",
    "tabela = tabulate(info, headers=headers, tablefmt=\"fancy_grid\", colalign=(\"center\", \"center\", \"center\", \"center\", \"center\"))\n",
    "\n",
    "print(\"\\nAnálise da tabela fato\\n\")\n",
    "print(tabela)"
   ]
  },
  {
   "cell_type": "markdown",
   "metadata": {
    "application/vnd.databricks.v1+cell": {
     "cellMetadata": {},
     "inputWidgets": {},
     "nuid": "2b75bf61-1531-46ec-a365-da9722b3d856",
     "showTitle": false,
     "tableResultSettingsMap": {},
     "title": ""
    }
   },
   "source": [
    "A tabela fato é constituída por uma variável de \"id\", uma variável numérica (idade) e 12 variáveis categóricas. Vamos agora avaliar como essas variáveis categóricas se distribuem."
   ]
  },
  {
   "cell_type": "code",
   "execution_count": 0,
   "metadata": {
    "application/vnd.databricks.v1+cell": {
     "cellMetadata": {
      "byteLimit": 2048000,
      "rowLimit": 10000
     },
     "inputWidgets": {},
     "nuid": "bed58296-55c0-43fc-bd82-7f63c5f02661",
     "showTitle": false,
     "tableResultSettingsMap": {},
     "title": ""
    }
   },
   "outputs": [],
   "source": [
    "contagem_nomes = bronze_fato[\"name\"].count()\n",
    "\n",
    "print(f\"Total de óbitos presentes na base:  {contagem_nomes}\")\n",
    "\n",
    "groupby_nomes = bronze_fato.groupby(\"name\")[\"id\"].count().reset_index(name=\"Quantidade\").sort_values(by=\"Quantidade\", ascending=False)\n",
    "\n",
    "groupby_nomes = groupby_nomes[groupby_nomes[\"Quantidade\"] > 1].rename(columns={\"name\": \"Nome\"})\n",
    "\n",
    "groupby_nomes = tabulate(groupby_nomes, headers=\"keys\", tablefmt=\"fancy_grid\", showindex=False, colalign=(\"center\", \"center\"))\n",
    "\n",
    "print(f\"\\nNomes repetidos na base:\\n\\n{groupby_nomes}\")\n"
   ]
  },
  {
   "cell_type": "markdown",
   "metadata": {
    "application/vnd.databricks.v1+cell": {
     "cellMetadata": {},
     "inputWidgets": {},
     "nuid": "1e041985-24cf-480c-8595-b1fc8f0ab734",
     "showTitle": false,
     "tableResultSettingsMap": {},
     "title": ""
    }
   },
   "source": [
    "Conforme pode ser verificado acima, alguns dos nomes aparecem duplicidade na base. Como não há, nos dados, um identificador específico de cada pessoa (por exemplo, CPF), é possível que os óbitos de fato tenham ocorrido entre homônimos. No entanto, chama a atenção a repetição de valores de nome \"TK TK\" ou \"TK Tk\", o que parece ser algum tipo de inconsistência no registro das informações."
   ]
  },
  {
   "cell_type": "code",
   "execution_count": 0,
   "metadata": {
    "application/vnd.databricks.v1+cell": {
     "cellMetadata": {
      "byteLimit": 2048000,
      "rowLimit": 10000
     },
     "inputWidgets": {},
     "nuid": "11797e56-d0cf-47a1-b801-f4bf05497012",
     "showTitle": false,
     "tableResultSettingsMap": {},
     "title": ""
    }
   },
   "outputs": [],
   "source": [
    "repetidos_cidades = (\n",
    "    bronze_fato[bronze_fato[\"name\"].isin([\"TK TK\", \"TK tk\"])]\n",
    "    .groupby(\"city\")[\"id\"]\n",
    "    .count()\n",
    "    .reset_index(name=\"Quantidade\")\n",
    "    .sort_values(by=\"Quantidade\", ascending=False)\n",
    "    .rename(columns={\"city\": \"Cidade\"})\n",
    ")\n",
    "\n",
    "repetidos_cidades = repetidos_cidades[repetidos_cidades[\"Quantidade\"] > 1]\n",
    "\n",
    "repetidos_cidades = tabulate(repetidos_cidades, headers=\"keys\", tablefmt=\"fancy_grid\", showindex=False, colalign=(\"center\", \"center\"))\n",
    "\n",
    "print(f\"\\nCidades associadas a nomes aparentemente inconsistentes:\\n\\n{repetidos_cidades}\")"
   ]
  },
  {
   "cell_type": "code",
   "execution_count": 0,
   "metadata": {
    "application/vnd.databricks.v1+cell": {
     "cellMetadata": {
      "byteLimit": 2048000,
      "rowLimit": 10000
     },
     "inputWidgets": {},
     "nuid": "4cccc399-8dd4-44a0-ba31-92d1819e98ef",
     "showTitle": false,
     "tableResultSettingsMap": {},
     "title": ""
    }
   },
   "outputs": [],
   "source": [
    "colunas = [\"manner_of_death\", \"gender\", \"race\", \"signs_of_mental_illness\", \"threat_level\", \"flee\", \"body_camera\"]\n",
    "\n",
    "for coluna in colunas:\n",
    "    groupby = bronze_fato.groupby(coluna)[\"id\"].count().reset_index(name=\"Quantidade\").sort_values(by=\"Quantidade\", ascending=False)\n",
    "    groupby = tabulate(groupby, headers=\"keys\", tablefmt=\"fancy_grid\", showindex=False, colalign=(\"center\", \"center\"))\n",
    "    print(f\"\\nValores Únicos da coluna '{coluna}':\\n\\n{groupby}\")\n",
    "\n",
    "print(f\"Menor data observada na base: {fato['date'].min()}\")\n",
    "\n",
    "print(f\"Maior data observada na base: {fato['date'].max()}\")"
   ]
  },
  {
   "cell_type": "markdown",
   "metadata": {},
   "source": [
    "##### 2.1.2 - Realizar as transformações necessárias na tabela para a subida no schema silver"
   ]
  },
  {
   "cell_type": "code",
   "execution_count": 0,
   "metadata": {
    "application/vnd.databricks.v1+cell": {
     "cellMetadata": {
      "byteLimit": 2048000,
      "rowLimit": 10000
     },
     "inputWidgets": {},
     "nuid": "a36b33bf-3e55-4964-95f2-fb4ac7dcfbf1",
     "showTitle": false,
     "tableResultSettingsMap": {},
     "title": ""
    }
   },
   "outputs": [],
   "source": [
    "silver_fato = bronze_fato.copy()\n",
    "\n",
    "silver_fato[\"mes\"] = pd.to_datetime(silver_fato['date'], format=\"%d/%m/%y\").dt.month\n",
    "silver_fato[\"ano\"] = pd.to_datetime(silver_fato['date'], format=\"%d/%m/%y\").dt.year\n",
    "    \n",
    "silver_fato[\"categoria_armado\"] = silver_fato[\"armed\"].apply(categorizar)\n",
    "\n",
    "silver_fato = padronizar_cidades(silver_fato, \"city\", [\"city\", \"CDP\", \"town\"])\n",
    "\n",
    "silver_fato = silver_fato.dropna(subset=[\"race\"])\n",
    "\n",
    "silver_fato[\"raca\"] = (\n",
    "    silver_fato[\"race\"]\n",
    "    .map(\n",
    "        {\n",
    "            \"A\": \"Asiático\",\n",
    "            \"W\": \"Branco\",\n",
    "            \"H\": \"Hispânico\",\n",
    "            \"B\": \"Preto\",\n",
    "            \"O\": \"Outros\",\n",
    "            \"N\": \"Indígena\",\n",
    "        }\n",
    "    )\n",
    ")\n",
    "\n",
    "silver_fato[\"cidade\"] = silver_fato[\"city\"] + \", \" + silver_fato[\"state\"]\n",
    "\n",
    "silver_fato[\"camera_corporal\"] = silver_fato[\"body_camera\"].map(\n",
    "    {True: \"Sim\", False: \"Não\"}\n",
    ")\n",
    "\n",
    "silver_fato[\"nivel_ameaca\"] = silver_fato[\"threat_level\"].map(\n",
    "    {\"attack\": \"Ataque\", \"undetermined\": \"Indeterminado\", \"other\": \"Outros\"}\n",
    ")\n",
    "\n",
    "silver_fato[\"genero\"] = silver_fato[\"gender\"].map({\"M\": \"Masculino\", \"F\": \"Feminino\"})\n",
    "\n",
    "silver_fato = silver_fato.drop(\n",
    "    columns={\n",
    "        \"name\",\n",
    "        \"date\",\n",
    "        \"manner_of_death\",\n",
    "        \"age\",\n",
    "        \"armed\",\n",
    "        \"gender\",\n",
    "        \"race\",\n",
    "        \"city\",\n",
    "        \"state\",\n",
    "        \"signs_of_mental_illness\",\n",
    "        \"threat_level\",\n",
    "        \"flee\",\n",
    "        \"body_camera\",\n",
    "    }\n",
    ")\n",
    "\n",
    "silver_fato_spark = spark.createDataFrame(silver_fato)"
   ]
  },
  {
   "cell_type": "markdown",
   "metadata": {},
   "source": [
    "##### 2.1.3 - Carregar a tabela trabalhada no schema silver"
   ]
  },
  {
   "cell_type": "code",
   "execution_count": 0,
   "metadata": {
    "application/vnd.databricks.v1+cell": {
     "cellMetadata": {
      "byteLimit": 2048000,
      "rowLimit": 10000
     },
     "inputWidgets": {},
     "nuid": "2428d9e3-a516-4160-a6a4-556451eb49ca",
     "showTitle": false,
     "tableResultSettingsMap": {},
     "title": ""
    }
   },
   "outputs": [],
   "source": [
    "silver_fato_spark.write.mode(\"overwrite\").saveAsTable(\"silver.fato\")"
   ]
  },
  {
   "cell_type": "markdown",
   "metadata": {
    "application/vnd.databricks.v1+cell": {
     "cellMetadata": {},
     "inputWidgets": {},
     "nuid": "2483d68b-2a5b-4017-b5ff-5e02fa237f40",
     "showTitle": false,
     "tableResultSettingsMap": {},
     "title": ""
    }
   },
   "source": [
    "#### 2.2 - Tabela Dimensão 1 - Renda Mediana por Cidade"
   ]
  },
  {
   "cell_type": "markdown",
   "metadata": {},
   "source": [
    "##### 2.2.1 - Extrair a tabela do schema bronze e performar a análise exploratória"
   ]
  },
  {
   "cell_type": "code",
   "execution_count": 0,
   "metadata": {
    "application/vnd.databricks.v1+cell": {
     "cellMetadata": {
      "byteLimit": 2048000,
      "rowLimit": 10000
     },
     "inputWidgets": {},
     "nuid": "5029f95d-4de7-4d8f-b6b9-ff7c630db6b3",
     "showTitle": false,
     "tableResultSettingsMap": {},
     "title": ""
    }
   },
   "outputs": [],
   "source": [
    "dimensao_renda_mediana = spark.table(\"bronze.dimensao_renda_mediana\").toPandas()\n",
    "\n",
    "silver_dimensao_renda_mediana = dimensao_renda_mediana.copy()\n",
    "\n",
    "info = pd.DataFrame({\n",
    "    \"Coluna\": silver_dimensao_renda_mediana.columns,\n",
    "    \"Tipo\": silver_dimensao_renda_mediana.dtypes.astype(str),\n",
    "    \"Valores Nulos\": silver_dimensao_renda_mediana.isnull().sum(),\n",
    "    \"Valores Únicos\": silver_dimensao_renda_mediana.nunique()\n",
    "})\n",
    "\n",
    "tabela = tabulate(info, headers=\"keys\", tablefmt=\"fancy_grid\", showindex=False, colalign=(\"center\", \"center\", \"center\", \"center\"))\n",
    "\n",
    "print(f\"\\nInformações da tabela 'Renda Mediana das Cidades Americanas':\\n\\n{tabela}\")\n"
   ]
  },
  {
   "cell_type": "markdown",
   "metadata": {},
   "source": [
    "##### 2.2.2 - Realizar as transformações necessárias na tabela para a subida no schema silver"
   ]
  },
  {
   "cell_type": "code",
   "execution_count": 0,
   "metadata": {
    "application/vnd.databricks.v1+cell": {
     "cellMetadata": {
      "byteLimit": 2048000,
      "rowLimit": 10000
     },
     "inputWidgets": {},
     "nuid": "e7dfac3e-e4da-4a66-8a0a-40494cb080e4",
     "showTitle": false,
     "tableResultSettingsMap": {},
     "title": ""
    }
   },
   "outputs": [],
   "source": [
    "#renomear colunas para facilitar a referência\n",
    "\n",
    "silver_dimensao_renda_mediana = silver_dimensao_renda_mediana.rename(\n",
    "    columns={\"median_income\": \"renda_mediana\"}\n",
    ")\n",
    "\n",
    "#padronização do nome das cidades\n",
    "\n",
    "silver_dimensao_renda_mediana = padronizar_cidades(\n",
    "    silver_dimensao_renda_mediana, \"city\", [\"city\", \"CDP\", \"town\"]\n",
    ")\n",
    "\n",
    "#converter a coluna de interesse para o formato numérico\n",
    "\n",
    "silver_dimensao_renda_mediana = converter_numerico(\n",
    "    silver_dimensao_renda_mediana, \"renda_mediana\"\n",
    ")\n",
    "\n",
    "#concatenação dos nomes de cidades e estados\n",
    "\n",
    "silver_dimensao_renda_mediana[\"cidade\"] = (\n",
    "    silver_dimensao_renda_mediana[\"city\"]\n",
    "    + \", \"\n",
    "    + silver_dimensao_renda_mediana[\"geographic_area\"]\n",
    ")\n",
    "\n",
    "#substituir valores não preenchidos pela média dos respectivos estados\n",
    "\n",
    "silver_dimensao_renda_mediana[\"renda_mediana\"] = silver_dimensao_renda_mediana[\n",
    "    \"renda_mediana\"\n",
    "].fillna(\n",
    "    silver_dimensao_renda_mediana.groupby(\"geographic_area\")[\"renda_mediana\"].transform(\n",
    "        \"mean\"\n",
    "    )\n",
    ")\n",
    "\n",
    "#verificar se há registros duplicados\n",
    "\n",
    "silver_dimensao_renda_mediana[silver_dimensao_renda_mediana[\"cidade\"].duplicated()]"
   ]
  },
  {
   "cell_type": "code",
   "execution_count": null,
   "metadata": {},
   "outputs": [],
   "source": [
    "##agrupar resultados duplicados pela média entre eles\n",
    "\n",
    "silver_dimensao_renda_mediana = silver_dimensao_renda_mediana.groupby([\"cidade\"], dropna=False)[\"renda_mediana\"].mean(numeric_only=True).reset_index()\n",
    "\n",
    "#separar os dados em quartis\n",
    "\n",
    "silver_dimensao_renda_mediana = categorizar_quartis(silver_dimensao_renda_mediana, \"renda_mediana\")\n",
    "\n",
    "#tabela final\n",
    "\n",
    "silver_dimensao_renda_mediana = silver_dimensao_renda_mediana.rename(columns={\"Categoria\": \"quartil_renda_mediana\"})\n",
    "\n",
    "silver_dimensao_renda_mediana_spark = spark.createDataFrame(silver_dimensao_renda_mediana)"
   ]
  },
  {
   "cell_type": "code",
   "execution_count": null,
   "metadata": {},
   "outputs": [],
   "source": [
    "#verificar graficamente a distribuição de renda mediana\n",
    "\n",
    "grafico = sns.histplot(\n",
    "    silver_dimensao_renda_mediana[\"renda_mediana\"],\n",
    "    bins=20,\n",
    "    color=\"#ffb2f9\",\n",
    "    edgecolor=\"#FFFFFF\",\n",
    "    kde=True,\n",
    ")\n",
    "\n",
    "grafico.set(\n",
    "    xlabel=\"\\nRenda Mediana\", ylabel=\"Frequência\\n\", title=\"Distribuição da Renda Mediana das Cidades Americanas\\n\"\n",
    ")\n",
    "\n",
    "grafico.xaxis.set_major_formatter(ticker.FuncFormatter(lambda x, _: f\"{x:,.0f}\"))\n",
    "grafico.yaxis.set_major_formatter(ticker.FuncFormatter(lambda x, _: f\"{x:,.0f}\"))\n",
    "\n",
    "plt.show()\n"
   ]
  },
  {
   "cell_type": "markdown",
   "metadata": {},
   "source": [
    "##### 2.2.3 - Carregar a tabela trabalhada no schema silver"
   ]
  },
  {
   "cell_type": "code",
   "execution_count": 0,
   "metadata": {
    "application/vnd.databricks.v1+cell": {
     "cellMetadata": {
      "byteLimit": 2048000,
      "rowLimit": 10000
     },
     "inputWidgets": {},
     "nuid": "41457adc-9ce2-4806-9a41-285fc1c968ae",
     "showTitle": false,
     "tableResultSettingsMap": {},
     "title": ""
    }
   },
   "outputs": [],
   "source": [
    "silver_dimensao_renda_mediana_spark.write.mode(\"overwrite\").saveAsTable(\"silver.dimensao_renda_mediana\")"
   ]
  },
  {
   "cell_type": "markdown",
   "metadata": {
    "application/vnd.databricks.v1+cell": {
     "cellMetadata": {},
     "inputWidgets": {},
     "nuid": "25ea3d51-f46d-4b64-aa8f-dec40c24ad58",
     "showTitle": false,
     "tableResultSettingsMap": {},
     "title": ""
    }
   },
   "source": [
    "#### 2.3 - Tabela Dimensão 2 - Percentual de pessoas abaixo da linha da pobreza por cidade"
   ]
  },
  {
   "cell_type": "markdown",
   "metadata": {},
   "source": [
    "##### 2.3.1 - Extrair a tabela do schema bronze e performar a análise exploratória"
   ]
  },
  {
   "cell_type": "code",
   "execution_count": 0,
   "metadata": {
    "application/vnd.databricks.v1+cell": {
     "cellMetadata": {
      "byteLimit": 2048000,
      "rowLimit": 10000
     },
     "inputWidgets": {},
     "nuid": "cd9c02ac-c1b5-47af-9746-9279071eeb54",
     "showTitle": false,
     "tableResultSettingsMap": {},
     "title": ""
    }
   },
   "outputs": [],
   "source": [
    "dimensao_linha_pobreza = spark.table(\"bronze.dimensao_linha_pobreza\").toPandas()\n",
    "\n",
    "silver_dimensao_linha_pobreza = dimensao_linha_pobreza.copy()\n",
    "\n",
    "info = pd.DataFrame({\n",
    "    \"Coluna\": silver_dimensao_linha_pobreza.columns,\n",
    "    \"Tipo\": silver_dimensao_linha_pobreza.dtypes.astype(str),\n",
    "    \"Valores Nulos\": silver_dimensao_linha_pobreza.isnull().sum(),\n",
    "    \"Valores Únicos\": silver_dimensao_linha_pobreza.nunique()\n",
    "})\n",
    "\n",
    "tabela = tabulate(info, headers=\"keys\", tablefmt=\"fancy_grid\", showindex=False, colalign=(\"center\", \"center\", \"center\", \"center\"))\n",
    "\n",
    "print(f\"\\nInformações da tabela 'Percentual da População Abaixo da Linha da Pobreza':\\n\\n{tabela}\")"
   ]
  },
  {
   "cell_type": "markdown",
   "metadata": {},
   "source": [
    "##### 2.3.2 - Realizar as transformações necessárias na tabela para a subida no schema silver"
   ]
  },
  {
   "cell_type": "code",
   "execution_count": 0,
   "metadata": {
    "application/vnd.databricks.v1+cell": {
     "cellMetadata": {
      "byteLimit": 2048000,
      "rowLimit": 10000
     },
     "inputWidgets": {},
     "nuid": "6f849162-7ba2-49aa-8baf-1675cd2167c6",
     "showTitle": false,
     "tableResultSettingsMap": {},
     "title": ""
    }
   },
   "outputs": [],
   "source": [
    "#renomear colunas para facilitar a referência\n",
    "\n",
    "silver_dimensao_linha_pobreza = silver_dimensao_linha_pobreza.rename(\n",
    "    columns={\"poverty_rate\": \"indice_pobreza\"}\n",
    ")\n",
    "\n",
    "#padronização do nome das cidades\n",
    "\n",
    "silver_dimensao_linha_pobreza = padronizar_cidades(\n",
    "    silver_dimensao_linha_pobreza, \"city\", [\"city\", \"CDP\", \"town\"]\n",
    ")\n",
    "\n",
    "#converter a coluna de interesse para o formato numérico\n",
    "\n",
    "silver_dimensao_linha_pobreza = converter_numerico(\n",
    "    silver_dimensao_linha_pobreza, \"indice_pobreza\"\n",
    ")\n",
    "\n",
    "#concatenação dos nomes de cidades e estados\n",
    "\n",
    "silver_dimensao_linha_pobreza[\"cidade\"] = (\n",
    "    silver_dimensao_linha_pobreza[\"city\"]\n",
    "    + \", \"\n",
    "    + silver_dimensao_linha_pobreza[\"geographic_area\"]\n",
    ")\n",
    "\n",
    "#verificar se há registros duplicados\n",
    "\n",
    "silver_dimensao_linha_pobreza[silver_dimensao_linha_pobreza[\"cidade\"].duplicated()]"
   ]
  },
  {
   "cell_type": "code",
   "execution_count": null,
   "metadata": {},
   "outputs": [],
   "source": [
    "##agrupar resultados duplicados pela média entre eles\n",
    "\n",
    "silver_dimensao_linha_pobreza = silver_dimensao_linha_pobreza.groupby([\"cidade\"], dropna=False)[\"indice_pobreza\"].mean(numeric_only=True).reset_index()\n",
    "\n",
    "#separar os dados em quartis\n",
    "\n",
    "silver_dimensao_linha_pobreza = categorizar_quartis(silver_dimensao_linha_pobreza, \"indice_pobreza\")\n",
    "\n",
    "#tabela final\n",
    "\n",
    "silver_dimensao_linha_pobreza = silver_dimensao_linha_pobreza.rename(columns={\"Categoria\": \"quartil_linha_pobreza\"})\n",
    "\n",
    "silver_dimensao_linha_pobreza_spark = spark.createDataFrame(silver_dimensao_linha_pobreza)"
   ]
  },
  {
   "cell_type": "code",
   "execution_count": null,
   "metadata": {},
   "outputs": [],
   "source": [
    "#verificar graficamente a distribuição da população abaixo da linha da pobreza\n",
    "\n",
    "grafico = sns.histplot(\n",
    "    silver_dimensao_linha_pobreza[\"indice_pobreza\"],\n",
    "    bins=20,\n",
    "    color=\"#ffb2f9\",\n",
    "    edgecolor=\"#FFFFFF\",\n",
    "    kde=True,\n",
    ")\n",
    "\n",
    "grafico.set(\n",
    "    xlabel=\"\\nPercentual\", ylabel=\"Frequência\\n\", title=\"Distribuição da População Abaixo da Linha da Pobreza por Cidade\\n\"\n",
    ")\n",
    "\n",
    "plt.gcf().set_facecolor(\"whitesmoke\")\n",
    "\n",
    "grafico.xaxis.set_major_formatter(ticker.FuncFormatter(lambda x, _: f\"{x:,.0f}\"))\n",
    "grafico.yaxis.set_major_formatter(ticker.FuncFormatter(lambda x, _: f\"{x:,.0f}\"))\n",
    "\n",
    "plt.show()\n"
   ]
  },
  {
   "cell_type": "markdown",
   "metadata": {},
   "source": [
    "##### 2.3.3 - Carregar a tabela trabalhada no schema silver"
   ]
  },
  {
   "cell_type": "code",
   "execution_count": 0,
   "metadata": {
    "application/vnd.databricks.v1+cell": {
     "cellMetadata": {
      "byteLimit": 2048000,
      "rowLimit": 10000
     },
     "inputWidgets": {},
     "nuid": "2b052c90-8a04-4620-8067-129a0a5417ff",
     "showTitle": false,
     "tableResultSettingsMap": {},
     "title": ""
    }
   },
   "outputs": [],
   "source": [
    "\n",
    "silver_dimensao_linha_pobreza_spark.write.mode(\"overwrite\").saveAsTable(\"silver.dimensao_linha_pobreza\")"
   ]
  },
  {
   "cell_type": "markdown",
   "metadata": {
    "application/vnd.databricks.v1+cell": {
     "cellMetadata": {},
     "inputWidgets": {},
     "nuid": "b56173f2-9b02-48d5-b08d-41ccb52d9321",
     "showTitle": false,
     "tableResultSettingsMap": {},
     "title": ""
    }
   },
   "source": [
    "#### 2.4 - Tabela Dimensão 3 - Percentual de pessoas acima de 25 anos que completaram o ensino médio por cidade"
   ]
  },
  {
   "cell_type": "markdown",
   "metadata": {},
   "source": [
    "##### 2.4.1 - Extrair a tabela do schema bronze e performar a análise exploratória"
   ]
  },
  {
   "cell_type": "code",
   "execution_count": 0,
   "metadata": {
    "application/vnd.databricks.v1+cell": {
     "cellMetadata": {
      "byteLimit": 2048000,
      "rowLimit": 10000
     },
     "inputWidgets": {},
     "nuid": "58d63fad-e779-4a08-8678-6a2dc325d870",
     "showTitle": false,
     "tableResultSettingsMap": {},
     "title": ""
    }
   },
   "outputs": [],
   "source": [
    "dimensao_escolaridade = spark.table(\"bronze.dimensao_escolaridade\").toPandas()\n",
    "\n",
    "silver_dimensao_escolaridade = dimensao_escolaridade.copy()\n",
    "\n",
    "info = pd.DataFrame({\n",
    "    \"Coluna\": silver_dimensao_escolaridade.columns,\n",
    "    \"Tipo\": silver_dimensao_escolaridade.dtypes.astype(str),\n",
    "    \"Valores Nulos\": silver_dimensao_escolaridade.isnull().sum(),\n",
    "    \"Valores Únicos\": silver_dimensao_escolaridade.nunique()\n",
    "})\n",
    "\n",
    "tabela = tabulate(info, headers=\"keys\", tablefmt=\"fancy_grid\", showindex=False, colalign=(\"center\", \"center\", \"center\", \"center\"))\n",
    "\n",
    "print(f\"\\nInformações da tabela 'População que Completou o Ensino Médio':\\n\\n{tabela}\")"
   ]
  },
  {
   "cell_type": "markdown",
   "metadata": {},
   "source": [
    "##### 2.4.2 - Realizar as transformações necessárias na tabela para a subida no schema silver"
   ]
  },
  {
   "cell_type": "code",
   "execution_count": 0,
   "metadata": {
    "application/vnd.databricks.v1+cell": {
     "cellMetadata": {
      "byteLimit": 2048000,
      "rowLimit": 10000
     },
     "inputWidgets": {},
     "nuid": "7099bf39-64da-415b-adfe-0af959a4a335",
     "showTitle": false,
     "tableResultSettingsMap": {},
     "title": ""
    }
   },
   "outputs": [],
   "source": [
    "#renomear colunas para facilitar a referência\n",
    "\n",
    "silver_dimensao_escolaridade = silver_dimensao_escolaridade.rename(\n",
    "    columns={\"percent_completed_hs\": \"percentual_em\"}\n",
    ")\n",
    "\n",
    "#padronização do nome das cidades\n",
    "\n",
    "silver_dimensao_escolaridade = padronizar_cidades(\n",
    "    silver_dimensao_escolaridade, \"city\", [\"city\", \"CDP\", \"town\"]\n",
    ")\n",
    "\n",
    "#converter a coluna de interesse para o formato numérico\n",
    "\n",
    "silver_dimensao_escolaridade = converter_numerico(\n",
    "    silver_dimensao_escolaridade, \"percentual_em\"\n",
    ")\n",
    "\n",
    "#concatenação dos nomes de cidades e estados\n",
    "\n",
    "silver_dimensao_escolaridade[\"cidade\"] = (\n",
    "    silver_dimensao_escolaridade[\"city\"]\n",
    "    + \", \"\n",
    "    + silver_dimensao_escolaridade[\"geographic_area\"]\n",
    ")\n",
    "\n",
    "#verificar se há registros duplicados\n",
    "\n",
    "silver_dimensao_escolaridade[silver_dimensao_escolaridade[\"cidade\"].duplicated()]"
   ]
  },
  {
   "cell_type": "code",
   "execution_count": null,
   "metadata": {},
   "outputs": [],
   "source": [
    "##agrupar resultados duplicados pela média entre eles\n",
    "\n",
    "silver_dimensao_escolaridade = silver_dimensao_escolaridade.groupby([\"cidade\"], dropna=False)[\"percentual_em\"].mean(numeric_only=True).reset_index()\n",
    "\n",
    "#separar os dados em quartis\n",
    "\n",
    "silver_dimensao_escolaridade = categorizar_quartis(silver_dimensao_escolaridade, \"percentual_em\")\n",
    "\n",
    "#tabela final\n",
    "\n",
    "silver_dimensao_escolaridade = silver_dimensao_escolaridade.rename(columns={\"Categoria\": \"quartil_percentual_em\"})\n",
    "\n",
    "silver_dimensao_escolaridade_spark = spark.createDataFrame(silver_dimensao_escolaridade)"
   ]
  },
  {
   "cell_type": "code",
   "execution_count": null,
   "metadata": {},
   "outputs": [],
   "source": [
    "#verificar graficamente a distribuição da população que completou o Ensino Médio\n",
    "\n",
    "grafico = sns.histplot(\n",
    "    silver_dimensao_escolaridade[\"percentual_em\"],\n",
    "    bins=20,\n",
    "    color=\"#ffb2f9\",\n",
    "    edgecolor=\"#FFFFFF\",\n",
    "    kde=True,\n",
    ")\n",
    "\n",
    "grafico.set(\n",
    "    xlabel=\"\\nPercentual\", ylabel=\"Frequência\\n\", title=\"Distribuição da População que Completou o Ensino Médio\\n\"\n",
    ")\n",
    "\n",
    "plt.gcf().set_facecolor(\"whitesmoke\")\n",
    "\n",
    "grafico.xaxis.set_major_formatter(ticker.FuncFormatter(lambda x, _: f\"{x:,.0f}\"))\n",
    "grafico.yaxis.set_major_formatter(ticker.FuncFormatter(lambda x, _: f\"{x:,.0f}\"))\n",
    "\n",
    "plt.show()"
   ]
  },
  {
   "cell_type": "markdown",
   "metadata": {},
   "source": [
    "##### 2.4.3 - Carregar a tabela trabalhada no schema silver"
   ]
  },
  {
   "cell_type": "code",
   "execution_count": 0,
   "metadata": {
    "application/vnd.databricks.v1+cell": {
     "cellMetadata": {
      "byteLimit": 2048000,
      "rowLimit": 10000
     },
     "inputWidgets": {},
     "nuid": "5ea29caf-0b92-48fa-98df-8880639e6d39",
     "showTitle": false,
     "tableResultSettingsMap": {},
     "title": ""
    }
   },
   "outputs": [],
   "source": [
    "silver_dimensao_escolaridade_spark.write.mode(\"overwrite\").saveAsTable(\"silver.dimensao_escolaridade\")"
   ]
  },
  {
   "cell_type": "markdown",
   "metadata": {
    "application/vnd.databricks.v1+cell": {
     "cellMetadata": {},
     "inputWidgets": {},
     "nuid": "2535336d-c7b9-42e9-ad85-65c1e9fad55b",
     "showTitle": false,
     "tableResultSettingsMap": {},
     "title": ""
    }
   },
   "source": [
    "#### 2.5 - Tabela Dimensão 4 - Distribuição percentual de raças por cidade"
   ]
  },
  {
   "cell_type": "markdown",
   "metadata": {},
   "source": [
    "##### 2.5.1 - Extrair a tabela do schema bronze e performar a análise exploratória"
   ]
  },
  {
   "cell_type": "code",
   "execution_count": 0,
   "metadata": {
    "application/vnd.databricks.v1+cell": {
     "cellMetadata": {
      "byteLimit": 2048000,
      "rowLimit": 10000
     },
     "inputWidgets": {},
     "nuid": "9d97b911-ce00-4112-8d10-971cd004c97e",
     "showTitle": false,
     "tableResultSettingsMap": {},
     "title": ""
    }
   },
   "outputs": [],
   "source": [
    "dimensao_percentual_racas = spark.table(\"bronze.dimensao_percentual_racas\").toPandas()\n",
    "\n",
    "silver_dimensao_percentual_racas = dimensao_percentual_racas.copy()\n",
    "\n",
    "info = pd.DataFrame({\n",
    "    \"Coluna\": silver_dimensao_percentual_racas.columns,\n",
    "    \"Tipo\": silver_dimensao_percentual_racas.dtypes.astype(str),\n",
    "    \"Valores Nulos\": silver_dimensao_percentual_racas.isnull().sum(),\n",
    "    \"Valores Únicos\": silver_dimensao_percentual_racas.nunique()\n",
    "})\n",
    "\n",
    "tabela = tabulate(info, headers=\"keys\", tablefmt=\"fancy_grid\", showindex=False, colalign=(\"center\", \"center\", \"center\", \"center\"))\n",
    "\n",
    "print(f\"\\nInformações da tabela 'Distribuição de Raças das Cidades Americanas':\\n\\n{tabela}\")"
   ]
  },
  {
   "cell_type": "markdown",
   "metadata": {},
   "source": [
    "##### 2.5.2 - Realizar as transformações necessárias na tabela para a subida no schema silver"
   ]
  },
  {
   "cell_type": "code",
   "execution_count": 0,
   "metadata": {
    "application/vnd.databricks.v1+cell": {
     "cellMetadata": {
      "byteLimit": 2048000,
      "rowLimit": 10000
     },
     "inputWidgets": {},
     "nuid": "8059c131-4419-4269-9e23-7ff8570e4b3a",
     "showTitle": false,
     "tableResultSettingsMap": {},
     "title": ""
    }
   },
   "outputs": [],
   "source": [
    "# renomear colunas para facilitar a referência\n",
    "\n",
    "silver_dimensao_percentual_racas = silver_dimensao_percentual_racas.rename(\n",
    "    columns={\n",
    "        \"share_white\": \"percentual_brancos\",\n",
    "        \"share_black\": \"percentual_pretos\",\n",
    "        \"share_native_american\": \"percentual_indigenas\",\n",
    "        \"share_asian\": \"percentual_asiaticos\",\n",
    "        \"share_hispanic\": \"percentual_hispanicos\",\n",
    "    }\n",
    ")\n",
    "\n",
    "# padronização do nome das cidades\n",
    "\n",
    "silver_dimensao_percentual_racas = padronizar_cidades(silver_dimensao_percentual_racas, \"city\", [\"city\", \"CDP\", \"town\"])\n",
    "\n",
    "# converter a coluna de interesse para o formato numérico\n",
    "\n",
    "colunas = silver_dimensao_percentual_racas.columns.drop([\"geographic_area\", \"city\"])\n",
    "\n",
    "for coluna in colunas:\n",
    "    silver_dimensao_percentual_racas = converter_numerico(\n",
    "        silver_dimensao_percentual_racas, coluna\n",
    "    )\n",
    "\n",
    "# concatenação dos nomes de cidades e estados\n",
    "\n",
    "silver_dimensao_percentual_racas[\"cidade\"] = (\n",
    "    silver_dimensao_percentual_racas[\"city\"]\n",
    "    + \", \"\n",
    "    + silver_dimensao_percentual_racas[\"geographic_area\"]\n",
    ")\n",
    "\n",
    "# verificar se há registros duplicados\n",
    "\n",
    "silver_dimensao_percentual_racas[silver_dimensao_percentual_racas[\"cidade\"].duplicated()]"
   ]
  },
  {
   "cell_type": "code",
   "execution_count": null,
   "metadata": {},
   "outputs": [],
   "source": [
    "#agrupar resultados duplicados pela média entre eles\n",
    "\n",
    "silver_dimensao_percentual_racas = silver_dimensao_percentual_racas.groupby([\"cidade\"], dropna=False)[colunas].mean(numeric_only=True).reset_index()\n",
    "\n",
    "silver_dimensao_percentual_racas_spark = spark.createDataFrame(silver_dimensao_percentual_racas)\n",
    "\n",
    "#verificar graficamente a distribuição da população por raças\n",
    "\n",
    "num_rows = (len(colunas) // 2) + (len(colunas) % 2)\n",
    "figura, eixos = plt.subplots(nrows=num_rows, ncols=2, figsize=(14, num_rows * 3))\n",
    "eixos = eixos.flatten()\n",
    "\n",
    "for i, coluna in enumerate(colunas):\n",
    "    sns.histplot(silver_dimensao_percentual_racas[coluna], bins=40, ax=eixos[i], color=\"#ffb2f9\", edgecolor=\"#FFFFFF\")\n",
    "    eixos[i].set_title(f\"Distribuição de {coluna}\\n\")\n",
    "    eixos[i].set_xlabel(\"\\nPercentual\")\n",
    "    eixos[i].set_ylabel(\"Frequência\\n\")\n",
    "    eixos[i].xaxis.set_major_formatter(ticker.FuncFormatter(lambda x, _: f\"{x:,.0f}\"))\n",
    "    eixos[i].yaxis.set_major_formatter(ticker.FuncFormatter(lambda x, _: f\"{x:,.0f}\"))\n",
    "\n",
    "for j in range(i + 1, len(eixos)):\n",
    "    eixos[j].set_visible(False)\n",
    "\n",
    "figura.set_facecolor(\"whitesmoke\")\n",
    "plt.tight_layout()\n",
    "plt.show()"
   ]
  },
  {
   "cell_type": "markdown",
   "metadata": {},
   "source": [
    "##### 2.5.3 - Carregar a tabela trabalhada no schema silver"
   ]
  },
  {
   "cell_type": "code",
   "execution_count": 0,
   "metadata": {
    "application/vnd.databricks.v1+cell": {
     "cellMetadata": {
      "byteLimit": 2048000,
      "rowLimit": 10000
     },
     "inputWidgets": {},
     "nuid": "51861f3a-987c-40ab-a083-1ba8a67d56a8",
     "showTitle": false,
     "tableResultSettingsMap": {},
     "title": ""
    }
   },
   "outputs": [],
   "source": [
    "silver_dimensao_percentual_racas_spark.write.mode(\"overwrite\").saveAsTable(\"silver.dimensao_percentual_racas\")"
   ]
  },
  {
   "cell_type": "markdown",
   "metadata": {
    "application/vnd.databricks.v1+cell": {
     "cellMetadata": {},
     "inputWidgets": {},
     "nuid": "5de3f28c-e033-4ecd-a945-c5f741cbfd5d",
     "showTitle": false,
     "tableResultSettingsMap": {},
     "title": ""
    }
   },
   "source": [
    "#### 2.6 - Tabela Dimensão 5 - População por cidade americana"
   ]
  },
  {
   "cell_type": "markdown",
   "metadata": {},
   "source": [
    "##### 2.6.1 - Extrair as tabelas do schema bronze"
   ]
  },
  {
   "cell_type": "code",
   "execution_count": null,
   "metadata": {},
   "outputs": [],
   "source": [
    "codigos_cidades = spark.table(\"bronze.codigos_cidades\").toPandas()\n",
    "\n",
    "dimensao_populacao = spark.table(\"bronze.dimensao_populacao\").toPandas()"
   ]
  },
  {
   "cell_type": "markdown",
   "metadata": {},
   "source": [
    "##### 2.6.2 - Realizar as transformações necessárias nas tabelas para a subida no schema silver"
   ]
  },
  {
   "cell_type": "code",
   "execution_count": null,
   "metadata": {},
   "outputs": [],
   "source": [
    "codigos_cidades = codigos_cidades.rename(\n",
    "    columns={\"state\": \"estado\", \"statefp\": \"codigo_estado\"}\n",
    ")\n",
    "\n",
    "codigos_cidades = codigos_cidades[\n",
    "    [\"estado\", \"codigo_estado\"]\n",
    "].drop_duplicates(subset=[\"estado\", \"codigo_estado\"])\n",
    "\n",
    "silver_dimensao_populacao = dimensao_populacao.copy()\n",
    "\n",
    "silver_dimensao_populacao = silver_dimensao_populacao.merge(\n",
    "    codigos_cidades, left_on=\"state\", right_on=\"codigo_estado\", validate=\"m:1\"\n",
    ")\n",
    "\n",
    "silver_dimensao_populacao = silver_dimensao_populacao[\n",
    "    [\"estado\", \"name\", \"popestimate2016\"]\n",
    "]\n",
    "\n",
    "silver_dimensao_populacao = padronizar_cidades(\n",
    "    silver_dimensao_populacao, \"name\", [\"city\", \"CDP\", \"town\"]\n",
    ")\n",
    "\n",
    "silver_dimensao_populacao[\"cidade\"] = silver_dimensao_populacao[\"name\"] + \", \" + silver_dimensao_populacao[\"estado\"]\n",
    "\n",
    "silver_dimensao_populacao = silver_dimensao_populacao.drop_duplicates()\n",
    "\n",
    "silver_dimensao_populacao = silver_dimensao_populacao.groupby([\"cidade\"], dropna=False)[\"popestimate2016\"].mean(numeric_only=True).reset_index()\n",
    "\n",
    "silver_dimensao_populacao = silver_dimensao_populacao.rename(columns={\"popestimate2016\": \"estimativa_populacao\"})\n",
    "\n",
    "silver_dimensao_populacao_spark = spark.createDataFrame(silver_dimensao_populacao)"
   ]
  },
  {
   "cell_type": "markdown",
   "metadata": {},
   "source": [
    "##### 2.6.3 - Carregar a tabela trabalhada no schema silver"
   ]
  },
  {
   "cell_type": "code",
   "execution_count": 0,
   "metadata": {
    "application/vnd.databricks.v1+cell": {
     "cellMetadata": {
      "byteLimit": 2048000,
      "rowLimit": 10000
     },
     "inputWidgets": {},
     "nuid": "7b74956f-0327-46f4-ad06-5c4706951135",
     "showTitle": false,
     "tableResultSettingsMap": {},
     "title": ""
    }
   },
   "outputs": [],
   "source": [
    "silver_dimensao_populacao_spark.write.mode(\"overwrite\").saveAsTable(\"silver.dimensao_populacao\")"
   ]
  },
  {
   "cell_type": "markdown",
   "metadata": {},
   "source": [
    "### 3 - ETL para criação das tabelas nível gold"
   ]
  },
  {
   "cell_type": "markdown",
   "metadata": {},
   "source": [
    "#### 3.1 - Tabela Gold 1 - Base de homicídios policiais enriquecidas com dados das cidades de ocorrência"
   ]
  },
  {
   "cell_type": "markdown",
   "metadata": {},
   "source": [
    "##### 3.1.1 - Extrair as tabelas do schema silver"
   ]
  },
  {
   "cell_type": "code",
   "execution_count": null,
   "metadata": {},
   "outputs": [],
   "source": [
    "silver_fato = spark.table(\"silver.fato\").toPandas()\n",
    "\n",
    "silver_dimensao_escolaridade = spark.table(\"silver.dimensao_escolaridade\").toPandas()\n",
    "\n",
    "silver_dimensao_linha_pobreza = spark.table(\"silver.dimensao_linha_pobreza\").toPandas()\n",
    "\n",
    "silver_dimensao_percentual_racas = spark.table(\"silver.dimensao_percentual_racas\").toPandas()\n",
    "\n",
    "silver_dimensao_populacao = spark.table(\"silver.dimensao_populacao\").toPandas()"
   ]
  },
  {
   "cell_type": "markdown",
   "metadata": {},
   "source": [
    "##### 3.1.2 - Realizar as transformações necessárias na tabela para a subida no schema silver"
   ]
  },
  {
   "cell_type": "code",
   "execution_count": 0,
   "metadata": {
    "application/vnd.databricks.v1+cell": {
     "cellMetadata": {
      "byteLimit": 2048000,
      "rowLimit": 10000
     },
     "inputWidgets": {},
     "nuid": "facf1ee0-2683-49c9-a3f1-904ef30a99c6",
     "showTitle": false,
     "tableResultSettingsMap": {},
     "title": ""
    }
   },
   "outputs": [],
   "source": [
    "gold = (\n",
    "    silver_fato.merge(\n",
    "        silver_dimensao_renda_mediana,\n",
    "        on=[\"cidade\"],\n",
    "        validate=\"m:1\",\n",
    "        how=\"left\",\n",
    "    )\n",
    "    .merge(\n",
    "        silver_dimensao_escolaridade,\n",
    "        on=[\"cidade\"],\n",
    "        validate=\"m:1\",\n",
    "        how=\"left\",\n",
    "    )\n",
    "    .merge(\n",
    "        silver_dimensao_linha_pobreza,\n",
    "        on=[\"cidade\"],\n",
    "        validate=\"m:1\",\n",
    "        how=\"left\",\n",
    "    )\n",
    "    .merge(\n",
    "        silver_dimensao_percentual_racas,\n",
    "        on=[\"cidade\"],\n",
    "        validate=\"m:1\",\n",
    "        how=\"left\",\n",
    "    )\n",
    "    .merge(\n",
    "        silver_dimensao_populacao, \n",
    "        on=[\"cidade\"], \n",
    "        validate=\"m:1\", \n",
    "        how=\"left\")\n",
    ")\n",
    "\n",
    "gold_spark = spark.createDataFrame(gold)"
   ]
  },
  {
   "cell_type": "markdown",
   "metadata": {},
   "source": [
    "##### 3.1.3 - Carregar a tabela trabalhada no schema gold"
   ]
  },
  {
   "cell_type": "code",
   "execution_count": null,
   "metadata": {},
   "outputs": [],
   "source": [
    "gold_spark.write.mode(\"overwrite\").saveAsTable(\"gold.fato_dimensao\")"
   ]
  },
  {
   "cell_type": "markdown",
   "metadata": {},
   "source": [
    "### 4 - Criação de gráficos e tabelas de suporte para a análise dos resultados"
   ]
  },
  {
   "cell_type": "markdown",
   "metadata": {},
   "source": [
    "#### 4.1 - Contagem de homicídios conforme renda mediana por quartil"
   ]
  },
  {
   "cell_type": "code",
   "execution_count": 0,
   "metadata": {
    "application/vnd.databricks.v1+cell": {
     "cellMetadata": {
      "byteLimit": 2048000,
      "rowLimit": 10000
     },
     "inputWidgets": {},
     "nuid": "f063f7c6-9022-42aa-be78-a52c1fb42e44",
     "showTitle": false,
     "tableResultSettingsMap": {},
     "title": ""
    }
   },
   "outputs": [],
   "source": [
    "gold = spark.table(\"gold.fato_dimensao\").toPandas()\n",
    "\n",
    "groupby = gold.groupby(\"quartil_renda_mediana\")[\"id\"].count().reset_index(name=\"Quantidade\").sort_values(by=\"quartil_renda_mediana\")\n",
    "\n",
    "grafico = sns.barplot(\n",
    "    data=groupby,\n",
    "    x=\"quartil_renda_mediana\",\n",
    "    y=\"Quantidade\",\n",
    "    color=\"#ffb2f9\"\n",
    ")\n",
    "\n",
    "grafico.figure = plt.gcf()\n",
    "grafico.figure.set_facecolor(\"whitesmoke\")\n",
    "grafico.set_xlabel(\"\\nRenda Mediana por Quartil\")\n",
    "grafico.set_ylabel(\"Quantidade\\n\")\n",
    "grafico.set_title(\"Distribuição de Homicídios por Quartil - Renda Mediana\\n\")\n",
    "\n",
    "plt.show()"
   ]
  },
  {
   "cell_type": "markdown",
   "metadata": {},
   "source": [
    "#### 4.2 - Contagem de homicídios conforme percentual da população abaixo da linha da pobreza por quartil"
   ]
  },
  {
   "cell_type": "code",
   "execution_count": 0,
   "metadata": {
    "application/vnd.databricks.v1+cell": {
     "cellMetadata": {
      "byteLimit": 2048000,
      "rowLimit": 10000
     },
     "inputWidgets": {},
     "nuid": "2f0a1fd4-692e-4ca0-81c9-aa5ed8a5da77",
     "showTitle": false,
     "tableResultSettingsMap": {},
     "title": ""
    }
   },
   "outputs": [],
   "source": [
    "groupby = gold.groupby(\"quartil_linha_pobreza\")[\"id\"].count().reset_index(name=\"Quantidade\").sort_values(by=\"quartil_linha_pobreza\")\n",
    "\n",
    "grafico = sns.barplot(\n",
    "    data=groupby,\n",
    "    x=\"quartil_linha_pobreza\",\n",
    "    y=\"Quantidade\",\n",
    "    color=\"#ffb2f9\"\n",
    ")\n",
    "\n",
    "grafico.figure = plt.gcf()\n",
    "grafico.figure.set_facecolor(\"whitesmoke\")\n",
    "grafico.set_xlabel(\"\\nPopulação Abaixo da Linha da Pobreza por Quartil\")\n",
    "grafico.set_ylabel(\"Quantidade\\n\")\n",
    "grafico.set_title(\"Distribuição de Homicídios por Quartil - População Abaixo da Linha da Pobreza\\n\")\n",
    "\n",
    "plt.show()"
   ]
  },
  {
   "cell_type": "markdown",
   "metadata": {},
   "source": [
    "#### 4.3 - Contagem de homicídios conforme percentual da população acima de 25 anos com Ensino Médio completo"
   ]
  },
  {
   "cell_type": "code",
   "execution_count": 0,
   "metadata": {
    "application/vnd.databricks.v1+cell": {
     "cellMetadata": {
      "byteLimit": 2048000,
      "rowLimit": 10000
     },
     "inputWidgets": {},
     "nuid": "3092f767-9c13-487e-b5bb-074f62c90099",
     "showTitle": false,
     "tableResultSettingsMap": {},
     "title": ""
    }
   },
   "outputs": [],
   "source": [
    "groupby = gold.groupby(\"quartil_percentual_em\")[\"id\"].count().reset_index(name=\"Quantidade\").sort_values(by=\"quartil_percentual_em\")\n",
    "\n",
    "grafico = sns.barplot(\n",
    "    data=groupby,\n",
    "    x=\"quartil_percentual_em\",\n",
    "    y=\"Quantidade\",\n",
    "    color=\"#ffb2f9\"\n",
    ")\n",
    "\n",
    "grafico.figure = plt.gcf()\n",
    "grafico.figure.set_facecolor(\"whitesmoke\")\n",
    "grafico.set_xlabel(\"\\nEnsino Médio Completo por Quartil\")\n",
    "grafico.set_ylabel(\"Quantidade\\n\")\n",
    "grafico.set_title(\"Distribuição de Homicídios por Quartil - População com Ensino Médio Completo\\n\")\n",
    "\n",
    "plt.show()"
   ]
  },
  {
   "cell_type": "code",
   "execution_count": 0,
   "metadata": {
    "application/vnd.databricks.v1+cell": {
     "cellMetadata": {
      "byteLimit": 2048000,
      "rowLimit": 10000
     },
     "inputWidgets": {},
     "nuid": "b61aab57-bfe8-47e4-93c6-5f8b1637d007",
     "showTitle": false,
     "tableResultSettingsMap": {},
     "title": ""
    }
   },
   "outputs": [],
   "source": [
    "gold2 = (\n",
    "    gold.groupby(\"cidade\")[\"id\"]\n",
    "    .count()\n",
    "    .reset_index(name=\"quantidade\")\n",
    "    .sort_values(by=\"quantidade\", ascending=False)\n",
    "    .merge(\n",
    "        gold[\n",
    "            [\n",
    "                \"cidade\",\n",
    "                \"estimativa_populacao\",\n",
    "                \"percentual_brancos\",\n",
    "                \"percentual_pretos\",\n",
    "                \"percentual_hispanicos\",\n",
    "                \"percentual_asiaticos\",\n",
    "                \"percentual_indigenas\"\n",
    "            ]\n",
    "        ].drop_duplicates(),\n",
    "        validate=\"m:1\",\n",
    "        how=\"left\",\n",
    "        on=\"cidade\",\n",
    "    )\n",
    ")\n",
    "\n",
    "gold2[\"mortes_mil_habitantes\"] = (\n",
    "    gold2[\"quantidade\"] / gold2[\"estimativa_populacao\"] * 1000\n",
    ")\n",
    "\n",
    "\n",
    "gold2[\"bins\"] = pd.cut(gold2[\"percentual_brancos\"], bins=20)\n",
    "\n",
    "gold_grouped = gold2.groupby(\"bins\", observed=False)[\"mortes_mil_habitantes\"].mean().reset_index()\n",
    "\n",
    "gold_grouped[\"bins\"] = gold_grouped[\"bins\"].astype(str)\n",
    "\n",
    "plt.figure(figsize=(14, 6))\n",
    "sns.barplot(\n",
    "    x=gold_grouped[\"bins\"],\n",
    "    y=gold_grouped[\"mortes_mil_habitantes\"],\n",
    "    color=\"#ffb2f9\",\n",
    "    edgecolor=\"#FFFFFF\",\n",
    ")\n",
    "\n",
    "plt.xticks(rotation=90)\n",
    "plt.xlabel(\"Percentual de Pessoas Brancas (Agrupado em Bins)\")\n",
    "plt.ylabel(\"Média de Mortes por Mil Habitantes\")\n",
    "plt.title(\"Média de Mortes por Mil Habitantes por Percentual de Pessoas Brancas\")\n",
    "\n",
    "# Ajustar fundo e exibir o gráfico\n",
    "plt.gcf().set_facecolor(\"whitesmoke\")\n",
    "plt.grid(axis=\"y\", linestyle=\"--\", alpha=0.5)\n",
    "plt.show()\n"
   ]
  },
  {
   "cell_type": "code",
   "execution_count": 0,
   "metadata": {
    "application/vnd.databricks.v1+cell": {
     "cellMetadata": {},
     "inputWidgets": {},
     "nuid": "7f6710d4-1a12-479c-9ddd-5e0b2e60ee8c",
     "showTitle": false,
     "tableResultSettingsMap": {},
     "title": ""
    }
   },
   "outputs": [],
   "source": [
    "sns.histplot(\n",
    "    silver_dimensao_percentual_racas[\"percentual_brancos\"],\n",
    "    bins=20,\n",
    "    color=\"#ffb2f9\",\n",
    "    edgecolor=\"#FFFFFF\",\n",
    "    kde=True,\n",
    ")"
   ]
  },
  {
   "cell_type": "code",
   "execution_count": 0,
   "metadata": {
    "application/vnd.databricks.v1+cell": {
     "cellMetadata": {},
     "inputWidgets": {},
     "nuid": "e1699a75-a91e-43f3-bcdb-775acd904e0b",
     "showTitle": false,
     "tableResultSettingsMap": {},
     "title": ""
    }
   },
   "outputs": [],
   "source": [
    "groupby = gold.groupby(\"percentual_pretos\")[\"id\"].count().reset_index(name=\"Quantidade\").sort_values(by=\"percentual_pretos\")\n",
    "\n",
    "#agrupar resultados duplicados pela média entre eles\n",
    "\n",
    "silver_dimensao_percentual_racas = silver_dimensao_percentual_racas.groupby([\"cidade\"], dropna=False)[colunas].mean(numeric_only=True).reset_index()\n",
    "\n",
    "num_rows = len(colunas)\n",
    "figura, eixos = plt.subplots(nrows=num_rows, ncols=2, figsize=(14, num_rows * 3))\n",
    "eixos = eixos.flatten()\n",
    "\n",
    "for i, coluna in enumerate(colunas):\n",
    "    sns.histplot(\n",
    "        gold[coluna],\n",
    "        bins=20,\n",
    "        color=\"#ffb2f9\",\n",
    "        edgecolor=\"#FFFFFF\",\n",
    "        kde=True,\n",
    "        ax=eixos[i * 2]\n",
    "    )\n",
    "    eixos[i * 2].set_xlabel(f\"\\n{coluna}\\n\")\n",
    "    eixos[i * 2].set_ylabel(\"Quantidade\\n\")\n",
    "    eixos[i * 2].set_title(f\"Distribuição de Homicídios por {coluna} \\nda Cidade de Ocorrência\\n\")\n",
    "\n",
    "    sns.histplot(\n",
    "        silver_dimensao_percentual_racas[coluna],\n",
    "        bins=20,\n",
    "        color=\"#ffb2f9\",\n",
    "        edgecolor=\"#FFFFFF\",\n",
    "        kde=True,\n",
    "        ax=eixos[i * 2 + 1]  # Organizando corretamente a estrutura em pares\n",
    "    )\n",
    "    eixos[i * 2 + 1].set_xlabel(f\"\\n{coluna}\\n\")\n",
    "    eixos[i * 2 + 1].set_ylabel(\"Quantidade\\n\")\n",
    "    eixos[i * 2 + 1].set_title(f\"Distribuição de Cidades por {coluna}\\n\")\n",
    "\n",
    "# Ajustar fundo da imagem uma única vez\n",
    "figura.set_facecolor(\"whitesmoke\")\n",
    "\n",
    "# Melhorar layout e remover possíveis eixos vazios\n",
    "plt.tight_layout()\n",
    "plt.show()"
   ]
  }
 ],
 "metadata": {
  "application/vnd.databricks.v1+notebook": {
   "computePreferences": null,
   "dashboards": [],
   "environmentMetadata": null,
   "inputWidgetPreferences": null,
   "language": "python",
   "notebookMetadata": {
    "mostRecentlyExecutedCommandWithImplicitDF": {
     "commandId": 331083462450631,
     "dataframes": [
      "_sqldf"
     ]
    },
    "pythonIndentUnit": 4
   },
   "notebookName": "notebook",
   "widgets": {}
  },
  "kernelspec": {
   "display_name": ".venv",
   "language": "python",
   "name": "python3"
  },
  "language_info": {
   "codemirror_mode": {
    "name": "ipython",
    "version": 3
   },
   "file_extension": ".py",
   "mimetype": "text/x-python",
   "name": "python",
   "nbconvert_exporter": "python",
   "pygments_lexer": "ipython3",
   "version": "3.9.13"
  }
 },
 "nbformat": 4,
 "nbformat_minor": 0
}
